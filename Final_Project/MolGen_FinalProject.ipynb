{
 "cells": [
  {
   "cell_type": "markdown",
   "metadata": {},
   "source": [
    "# Creating a distance matrix\n",
    "In this notebook you will learn how to work with fasta files and generate a distance matrix that you will need to construct your phylogenetic tree."
   ]
  },
  {
   "cell_type": "markdown",
   "metadata": {},
   "source": [
    "Import numpy:"
   ]
  },
  {
   "cell_type": "code",
   "execution_count": 2,
   "metadata": {},
   "outputs": [],
   "source": [
    "import numpy as np"
   ]
  },
  {
   "cell_type": "markdown",
   "metadata": {},
   "source": [
    "We will also need to import SeqIO from the BioPython library:"
   ]
  },
  {
   "cell_type": "code",
   "execution_count": 3,
   "metadata": {},
   "outputs": [],
   "source": [
    "from Bio import SeqIO"
   ]
  },
  {
   "cell_type": "markdown",
   "metadata": {},
   "source": [
    "Copy and paste the function from the butterfly Notebook that returns the difference between two sequences:\n",
    "\n",
    "**You will need to make one change: the function needs to find the shortest sequence and stop the analysis at that nucleotide. You can use the \"break\" command to stop a for loop.**"
   ]
  },
  {
   "cell_type": "code",
   "execution_count": 27,
   "metadata": {},
   "outputs": [
    {
     "name": "stdout",
     "output_type": "stream",
     "text": [
      "3\n"
     ]
    }
   ],
   "source": [
    "seqA = \"CTGCG\"\n",
    "seqB = \"ATGGCCCC\"\n",
    "\n",
    "def diffNum(seqA,seqB):  \n",
    "    if len(seqA) <= len(seqB):\n",
    "        short = seqA\n",
    "        long = seqB\n",
    "    else:\n",
    "        short = seqB\n",
    "        long = seqA\n",
    "    num_diff = 0\n",
    "    for c, i in enumerate(short):\n",
    "        #print(i)\n",
    "        if c < len(short):\n",
    "            if i != long[c]:\n",
    "                num_diff += 1\n",
    "        else:\n",
    "            break\n",
    "    return num_diff\n",
    "\n",
    "print(diffNum(seqA, seqB))"
   ]
  },
  {
   "cell_type": "markdown",
   "metadata": {},
   "source": [
    "Create an empty list and use the SeqIO.parse() function to append each sequence in the fasta file:"
   ]
  },
  {
   "cell_type": "code",
   "execution_count": 5,
   "metadata": {},
   "outputs": [],
   "source": [
    "from Bio import SeqIO\n",
    "seqs = []\n",
    "for seq_record in list(SeqIO.parse('hemoglobin_sequences.fasta', 'fasta'))[:]:\n",
    "    seqs.append(seq_record.seq)\n"
   ]
  },
  {
   "cell_type": "markdown",
   "metadata": {},
   "source": [
    "Print out the first item in seqs to check that your code worked:"
   ]
  },
  {
   "cell_type": "code",
   "execution_count": 6,
   "metadata": {},
   "outputs": [
    {
     "data": {
      "text/plain": [
       "[Seq('ATGGTGCACCTGACTCCTGAGGAGAAGTCTGCCGTTACTGCCCTGTGGGGCAAG...TAA', SingleLetterAlphabet()),\n",
       " Seq('ATGGTCCATTGGACAGCTGAAGAGAAGGCCGCCATCACTTCTGTATGGCAGAAG...TAA', SingleLetterAlphabet()),\n",
       " Seq('ATGGTTGAGTGGACAGATGCCGAGCGCACAGCCATCCTTGGCCTGTGGGGAAAG...TAG', SingleLetterAlphabet()),\n",
       " Seq('ATGGTGCACCTGACTCCTGAGGAGAAGTCTGCCGTTACTGCCCTGTGGGGCAAG...AAG', SingleLetterAlphabet()),\n",
       " Seq('ATGGTTGAGTTGACAGAAGCCCAGCGTGGTGCTATCGTTAACCTGTGGGGACAT...ATA', SingleLetterAlphabet()),\n",
       " Seq('ATGGTGCACTGGACTGCTGAGGAGAAGCAGCTCATCACCGGCCTCTGGGGCAAG...TAA', SingleLetterAlphabet()),\n",
       " Seq('ATGGTGCACCTGACTCCTGAGGAGAAGTCTGCCGTTACTGCCCTGTGGGGCAAG...AGG', SingleLetterAlphabet()),\n",
       " Seq('ATGGTGAATCTGACTGCTGCTGAGAAGACACAAGTCACCAACCTGTGGGGCAAG...TGA', SingleLetterAlphabet()),\n",
       " Seq('ATGGTGCATCTGTCTGCTGAGGAGAAGGAGGCCGTCCTCGGCCTGTGGGGCAAA...TAA', SingleLetterAlphabet()),\n",
       " Seq('ATGGTGCACCTGACTGATGCTGAGAAGGCTGCTGTCTCTGGCCTGTGGGGAAAG...TAA', SingleLetterAlphabet()),\n",
       " Seq('ATGGTGCATCTGACTCCTGAGGAGAAGAATGCCGTCACCACCCTGTGGGGCAAG...TAA', SingleLetterAlphabet()),\n",
       " Seq('ATGTCAGCCTTCAACCCCCATGAGAAGCAACTCATTGGTGACCTGTGGCACAAG...TAA', SingleLetterAlphabet()),\n",
       " Seq('ATGGTGCACCTGACTCCTGAGGAGAAGTCTGCTGTTACTGCCCTGTGGGGCAAG...TAA', SingleLetterAlphabet())]"
      ]
     },
     "execution_count": 6,
     "metadata": {},
     "output_type": "execute_result"
    }
   ],
   "source": [
    "seqs"
   ]
  },
  {
   "cell_type": "markdown",
   "metadata": {},
   "source": [
    "Print out just the sequence from the first species using the .seq method:"
   ]
  },
  {
   "cell_type": "code",
   "execution_count": 7,
   "metadata": {},
   "outputs": [
    {
     "data": {
      "text/plain": [
       "Seq('ATGGTGCACCTGACTCCTGAGGAGAAGTCTGCCGTTACTGCCCTGTGGGGCAAG...TAA', SingleLetterAlphabet())"
      ]
     },
     "execution_count": 7,
     "metadata": {},
     "output_type": "execute_result"
    }
   ],
   "source": [
    "seqs[0]"
   ]
  },
  {
   "cell_type": "markdown",
   "metadata": {},
   "source": [
    "Print out the length of the seqs list to see how many sequences there are:"
   ]
  },
  {
   "cell_type": "code",
   "execution_count": 8,
   "metadata": {},
   "outputs": [
    {
     "data": {
      "text/plain": [
       "13"
      ]
     },
     "execution_count": 8,
     "metadata": {},
     "output_type": "execute_result"
    }
   ],
   "source": [
    "len(seqs)"
   ]
  },
  {
   "cell_type": "markdown",
   "metadata": {},
   "source": [
    "Create a function that takes the list of sequences as its only argument and returns a numpy array with the hamming distance of each pair of sequences:\n",
    "\n",
    "Hint: You will need to create an empty two dimensional numpy array with the same number of rows and columns as there are sequences in your list."
   ]
  },
  {
   "cell_type": "code",
   "execution_count": 24,
   "metadata": {},
   "outputs": [],
   "source": [
    "empty = np.empty([13,13])\n",
    "def array(seqs):\n",
    "    for i in range(len(seqs)):\n",
    "        for j in range(len(seqs)):\n",
    "            x = diffNum(seqs[i],seqs[j])\n",
    "            empty[i,j] = x\n",
    "    return empty"
   ]
  },
  {
   "cell_type": "markdown",
   "metadata": {},
   "source": [
    "Run your function:"
   ]
  },
  {
   "cell_type": "code",
   "execution_count": 25,
   "metadata": {},
   "outputs": [],
   "source": [
    "my_array = array(seqs)"
   ]
  },
  {
   "cell_type": "code",
   "execution_count": 26,
   "metadata": {},
   "outputs": [
    {
     "name": "stdout",
     "output_type": "stream",
     "text": [
      "[[  0. 168. 195.   3. 302. 114.   0.  75.  70.  79.  22. 155.   8.]\n",
      " [168.   0. 213. 138. 313. 166. 114. 179. 169. 170. 166. 198. 170.]\n",
      " [195. 213.   0. 138. 299. 185. 110. 202. 201. 183. 199. 215. 198.]\n",
      " [  3. 138. 138.   0. 247.  94.   1.  62.  60.  63.  18. 122.   4.]\n",
      " [302. 313. 299. 247.   0. 311. 209. 310. 303. 304. 301. 324. 299.]\n",
      " [114. 166. 185.  94. 311.   0.  77. 117. 115. 127. 114. 125. 115.]\n",
      " [  0. 114. 110.   1. 209.  77.   0.  54.  45.  51.  17. 104.   3.]\n",
      " [ 75. 179. 202.  62. 310. 117.  54.   0.  84.  88.  70. 136.  71.]\n",
      " [ 70. 169. 201.  60. 303. 115.  45.  84.   0.  89.  65. 147.  66.]\n",
      " [ 79. 170. 183.  63. 304. 127.  51.  88.  89.   0.  78. 149.  76.]\n",
      " [ 22. 166. 199.  18. 301. 114.  17.  70.  65.  78.   0. 156.  18.]\n",
      " [155. 198. 215. 122. 324. 125. 104. 136. 147. 149. 156.   0. 152.]\n",
      " [  8. 170. 198.   4. 299. 115.   3.  71.  66.  76.  18. 152.   0.]]\n"
     ]
    }
   ],
   "source": [
    "print(my_array)"
   ]
  },
  {
   "cell_type": "code",
   "execution_count": 30,
   "metadata": {},
   "outputs": [],
   "source": [
    "x = my_array\n",
    "fname = \"MolGen_FinalProject_Array.txt\""
   ]
  },
  {
   "cell_type": "code",
   "execution_count": 32,
   "metadata": {},
   "outputs": [],
   "source": [
    "np.savetxt(fname,x,fmt=\"%.1f\")"
   ]
  }
 ],
 "metadata": {
  "kernelspec": {
   "display_name": "Python 3",
   "language": "python",
   "name": "python3"
  },
  "language_info": {
   "codemirror_mode": {
    "name": "ipython",
    "version": 3
   },
   "file_extension": ".py",
   "mimetype": "text/x-python",
   "name": "python",
   "nbconvert_exporter": "python",
   "pygments_lexer": "ipython3",
   "version": "3.7.3"
  }
 },
 "nbformat": 4,
 "nbformat_minor": 2
}
