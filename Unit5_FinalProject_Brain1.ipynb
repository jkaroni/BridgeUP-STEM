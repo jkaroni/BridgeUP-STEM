{
 "cells": [
  {
   "cell_type": "code",
   "execution_count": 25,
   "metadata": {
    "scrolled": true
   },
   "outputs": [
    {
     "data": {
      "text/html": [
       "<div>\n",
       "<style scoped>\n",
       "    .dataframe tbody tr th:only-of-type {\n",
       "        vertical-align: middle;\n",
       "    }\n",
       "\n",
       "    .dataframe tbody tr th {\n",
       "        vertical-align: top;\n",
       "    }\n",
       "\n",
       "    .dataframe thead th {\n",
       "        text-align: right;\n",
       "    }\n",
       "</style>\n",
       "<table border=\"1\" class=\"dataframe\">\n",
       "  <thead>\n",
       "    <tr style=\"text-align: right;\">\n",
       "      <th></th>\n",
       "      <th>Species ID</th>\n",
       "      <th>Bird or Dino</th>\n",
       "      <th>Body Mass (kg)</th>\n",
       "      <th>Total Endocranium (cm3)</th>\n",
       "      <th>Olfactory bulbs (cm3)</th>\n",
       "      <th>Cerebrum (cm3)</th>\n",
       "      <th>Optic Lobes (cm3)</th>\n",
       "      <th>Cerebellum (cm3)</th>\n",
       "      <th>Brain Stem (cm3)</th>\n",
       "    </tr>\n",
       "  </thead>\n",
       "  <tbody>\n",
       "    <tr>\n",
       "      <th>0</th>\n",
       "      <td>3</td>\n",
       "      <td>Bird</td>\n",
       "      <td>0.01</td>\n",
       "      <td>2.20</td>\n",
       "      <td>0.003</td>\n",
       "      <td>1.57</td>\n",
       "      <td>0.20</td>\n",
       "      <td>0.34</td>\n",
       "      <td>0.08</td>\n",
       "    </tr>\n",
       "    <tr>\n",
       "      <th>1</th>\n",
       "      <td>4</td>\n",
       "      <td>Bird</td>\n",
       "      <td>0.03</td>\n",
       "      <td>4.02</td>\n",
       "      <td>0.010</td>\n",
       "      <td>2.22</td>\n",
       "      <td>0.73</td>\n",
       "      <td>0.76</td>\n",
       "      <td>0.29</td>\n",
       "    </tr>\n",
       "    <tr>\n",
       "      <th>2</th>\n",
       "      <td>5</td>\n",
       "      <td>Bird</td>\n",
       "      <td>0.02</td>\n",
       "      <td>1.98</td>\n",
       "      <td>0.009</td>\n",
       "      <td>1.53</td>\n",
       "      <td>0.20</td>\n",
       "      <td>0.16</td>\n",
       "      <td>0.06</td>\n",
       "    </tr>\n",
       "    <tr>\n",
       "      <th>3</th>\n",
       "      <td>6</td>\n",
       "      <td>Bird</td>\n",
       "      <td>0.01</td>\n",
       "      <td>0.87</td>\n",
       "      <td>0.006</td>\n",
       "      <td>0.46</td>\n",
       "      <td>0.24</td>\n",
       "      <td>0.11</td>\n",
       "      <td>0.06</td>\n",
       "    </tr>\n",
       "    <tr>\n",
       "      <th>4</th>\n",
       "      <td>7</td>\n",
       "      <td>Bird</td>\n",
       "      <td>0.17</td>\n",
       "      <td>9.11</td>\n",
       "      <td>0.015</td>\n",
       "      <td>6.09</td>\n",
       "      <td>0.88</td>\n",
       "      <td>1.62</td>\n",
       "      <td>0.49</td>\n",
       "    </tr>\n",
       "  </tbody>\n",
       "</table>\n",
       "</div>"
      ],
      "text/plain": [
       "   Species ID Bird or Dino  Body Mass (kg)  Total Endocranium (cm3)  \\\n",
       "0           3         Bird            0.01                     2.20   \n",
       "1           4         Bird            0.03                     4.02   \n",
       "2           5         Bird            0.02                     1.98   \n",
       "3           6         Bird            0.01                     0.87   \n",
       "4           7         Bird            0.17                     9.11   \n",
       "\n",
       "   Olfactory bulbs (cm3)  Cerebrum (cm3)  Optic Lobes (cm3)  Cerebellum (cm3)  \\\n",
       "0                  0.003            1.57               0.20              0.34   \n",
       "1                  0.010            2.22               0.73              0.76   \n",
       "2                  0.009            1.53               0.20              0.16   \n",
       "3                  0.006            0.46               0.24              0.11   \n",
       "4                  0.015            6.09               0.88              1.62   \n",
       "\n",
       "   Brain Stem (cm3)  \n",
       "0              0.08  \n",
       "1              0.29  \n",
       "2              0.06  \n",
       "3              0.06  \n",
       "4              0.49  "
      ]
     },
     "execution_count": 25,
     "metadata": {},
     "output_type": "execute_result"
    }
   ],
   "source": [
    "import pandas as pd\n",
    "import numpy as np\n",
    "df = pd.read_csv(\"bird_dino_data.csv\")\n",
    "df.head()"
   ]
  },
  {
   "cell_type": "code",
   "execution_count": 36,
   "metadata": {},
   "outputs": [],
   "source": [
    "def body(FL):\n",
    "    bm = 10**(3.1854*np.log10(FL)-3.184)/1000\n",
    "    return bm\n",
    "\n"
   ]
  },
  {
   "cell_type": "code",
   "execution_count": 47,
   "metadata": {},
   "outputs": [
    {
     "name": "stdout",
     "output_type": "stream",
     "text": [
      "0.04791240416843194\n",
      "0.001431277157772577\n"
     ]
    }
   ],
   "source": [
    "def ratio(animal):\n",
    "    df[\"Brain to Body Mass ratio\"] = df[\"Total Endocranium (cm3)\"]/(df[\"Body Mass (kg)\"]*1000)\n",
    "    ratio = (df[\"Brain to Body Mass ratio\"].loc[df[\"Bird or Dino\"]== animal]).mean()\n",
    "    return ratio\n",
    "print(ratio(\"Bird\"))\n",
    "print(ratio(\"Dino\"))"
   ]
  },
  {
   "cell_type": "code",
   "execution_count": 49,
   "metadata": {},
   "outputs": [
    {
     "name": "stdout",
     "output_type": "stream",
     "text": [
      "0.678058347634224\n",
      "None\n",
      "0.3669631879655746\n",
      "None\n"
     ]
    }
   ],
   "source": [
    "def c2b(animal):\n",
    "    cerebrum = (df[\"Cerebrum (cm3)\"].loc[df[\"Bird or Dino\"] == animal]).mean()\n",
    "    total = (df[\"Total Endocranium (cm3)\"].loc[df[\"Bird or Dino\"] == animal]).mean()\n",
    "    ratio = print(cerebrum/total)\n",
    "    return ratio\n",
    "print(c2b(\"Bird\"))\n",
    "print(c2b(\"Dino\"))"
   ]
  },
  {
   "cell_type": "code",
   "execution_count": 41,
   "metadata": {},
   "outputs": [],
   "source": [
    "femur = \n",
    "brain_mass = 2\n",
    "cerebrum = 1.8\n",
    "ratio = brain_mass/whole\n",
    "c2b = cerebrum/whole"
   ]
  },
  {
   "cell_type": "code",
   "execution_count": null,
   "metadata": {},
   "outputs": [],
   "source": []
  }
 ],
 "metadata": {
  "kernelspec": {
   "display_name": "Python 3",
   "language": "python",
   "name": "python3"
  },
  "language_info": {
   "codemirror_mode": {
    "name": "ipython",
    "version": 3
   },
   "file_extension": ".py",
   "mimetype": "text/x-python",
   "name": "python",
   "nbconvert_exporter": "python",
   "pygments_lexer": "ipython3",
   "version": "3.6.5"
  }
 },
 "nbformat": 4,
 "nbformat_minor": 2
}
