{
 "cells": [
  {
   "cell_type": "markdown",
   "metadata": {},
   "source": [
    "# Unit 4 Final Projects: Calculating evolutionary distance\n",
    "\n",
    "In this notebook you will compare the sequence of a particular gene from 3 different species to find out which two are most closely related. \n",
    "\n",
    "You will need to do the following:\n",
    "1. Open and read in your files\n",
    "2. Decide which sequences to compare (DNA, RNA, or protein)\n",
    "    3. Write a function that returns the percent similarity of each pair of sequences\n",
    "4. Call the function on each pair of sequences to find out which are most similar"
   ]
  },
  {
   "cell_type": "code",
   "execution_count": 58,
   "metadata": {},
   "outputs": [],
   "source": [
    "walDNA = open(\"3_walrus_HBB_DNA.txt\").read()\n",
    "whaleDNA = open(\"3_sperm_whale_HBB_DNA.txt\").read()\n",
    "dogDNA = open(\"3_dog_HBB_DNA.txt\").read()"
   ]
  },
  {
   "cell_type": "code",
   "execution_count": 2,
   "metadata": {},
   "outputs": [],
   "source": [
    "def transcribe(DNAseq):\n",
    "    RNA = \"\"\n",
    "    for base in DNAseq:\n",
    "        if base == \"C\":\n",
    "            RNA += \"G\"\n",
    "        elif base == \"G\":\n",
    "            RNA += \"C\"\n",
    "        elif base == \"A\":\n",
    "            RNA += \"U\"\n",
    "        elif base == \"T\":\n",
    "            RNA += \"A\"\n",
    "        else:\n",
    "            continue\n",
    "    return RNA\n",
    "\n",
    "def translate(RNA):\n",
    "    codonDict = {\"UUU\":\"F\",\"UUC\":\"F\",\"UUA\":\"L\",\"UUG\":\"L\", \"CUU\":\"L\",\"CUC\":\"L\", \n",
    "             \"CUA\":\"L\",\"CUG\":\"L\",\"AUU\":\"I\",\"AUC\":\"I\",\"AUA\":\"I\",\"AUG\":\"M\",\n",
    "             \"GUU\":\"V\",\"GUC\":\"V\",\"GUA\":\"V\",\"GUG\":\"V\",\"UCU\":\"S\",\"UCC\":\"S\",\n",
    "             \"UCA\":\"S\",\"UCG\":\"S\",\"CCU\":\"P\",\"CCC\":\"P\",\"CCA\":\"P\",\"CCG\":\"P\",\n",
    "             \"ACU\":\"T\",\"ACC\":\"T\",\"ACA\":\"T\",\"ACG\":\"T\",\"GCU\":\"A\",\"GCC\":\"A\",\n",
    "             \"GCA\":\"A\",\"GCG\":\"A\",\"UAU\":\"Y\",\"UAC\":\"Y\",\"UAA\":\"STOP\",\"UAG\":\"STOP\",\n",
    "             \"UGA\":\"STOP\",\"CAU\":\"H\",\"CAC\":\"H\",\"CAA\":\"Q\",\"CAG\":\"Q\",\"AAU\":\"N\",\n",
    "             \"AAC\":\"N\",\"AAA\":\"K\",\"AAG\":\"K\",\"GAU\":\"D\",\"GAC\":\"D\",\"GAA\":\"E\",\n",
    "             \"GAG\":\"E\",\"UGU\":\"C\",\"UGC\":\"C\",\"UGG\":\"W\",\"CGU\":\"R\",\"CGC\":\"R\",\n",
    "             \"CGA\":\"R\",\"CGG\":\"R\",\"AGU\":\"S\",\"AGC\":\"S\",\"AGA\":\"R\",\"AGG\":\"R\",\n",
    "             \"GGU\":\"G\",\"GGC\":\"G\",\"GGA\":\"G\",\"GGG\":\"G\"}\n",
    "    protein = \"\"\n",
    "    codon = \"\"\n",
    "    for i in RNA:\n",
    "        if len(codon) == 3:\n",
    "            protein += codonDict[codon]\n",
    "            codon = \"\"\n",
    "            codon += i\n",
    "        else:\n",
    "            codon += i\n",
    "    return protein\n"
   ]
  },
  {
   "cell_type": "code",
   "execution_count": 11,
   "metadata": {},
   "outputs": [],
   "source": [
    "def compare(pro1,pro2):\n",
    "    num_diff = 0\n",
    "    for c,i in enumerate(pro1):\n",
    "        if pro2[c] != i:\n",
    "            num_diff += 1\n",
    "    return num_diff"
   ]
  },
  {
   "cell_type": "code",
   "execution_count": 12,
   "metadata": {},
   "outputs": [],
   "source": [
    "walPRO = translate(transcribe(walDNA))\n",
    "whalePRO = translate(transcribe(whaleDNA))\n",
    "dogPRO = translate(transcribe(dogDNA))"
   ]
  },
  {
   "cell_type": "code",
   "execution_count": 14,
   "metadata": {
    "scrolled": true
   },
   "outputs": [
    {
     "name": "stdout",
     "output_type": "stream",
     "text": [
      "59\n",
      "61\n",
      "22\n"
     ]
    }
   ],
   "source": [
    "print(compare(whaleDNA, walDNA))\n",
    "print(compare(whaleDNA, dogDNA))\n",
    "print(compare(dogDNA, walDNA))"
   ]
  },
  {
   "cell_type": "code",
   "execution_count": 6,
   "metadata": {},
   "outputs": [
    {
     "name": "stdout",
     "output_type": "stream",
     "text": [
      "435\n",
      "435\n",
      "435\n"
     ]
    }
   ],
   "source": [
    "print(len(whaleDNA))\n",
    "print(len(walDNA))\n",
    "print(len(dogDNA))"
   ]
  },
  {
   "cell_type": "code",
   "execution_count": 43,
   "metadata": {},
   "outputs": [
    {
     "name": "stdout",
     "output_type": "stream",
     "text": [
      "86.4367816091954\n",
      "85.97701149425288\n",
      "94.94252873563218\n"
     ]
    }
   ],
   "source": [
    "def persim(pro1,pro2):\n",
    "    num_sim = 0\n",
    "    for c,i in enumerate(pro1):\n",
    "        if pro2[c] == i:\n",
    "            num_sim += 1\n",
    "        percent_sim = ((num_sim/len(pro1)) * 100)\n",
    "    return percent_sim \n",
    "whw = persim(whaleDNA, walDNA)\n",
    "whd = persim(whaleDNA, dogDNA)\n",
    "wd = persim(dogDNA, walDNA)\n",
    "print(whw)\n",
    "print(whd)\n",
    "print(wd)"
   ]
  },
  {
   "cell_type": "markdown",
   "metadata": {},
   "source": [
    "## Bonus Challenge\n",
    "\n",
    "Visualize your results! Choose a graph type that you think will communicate your conclusions effectively and create it using matplotlib:"
   ]
  },
  {
   "cell_type": "code",
   "execution_count": 60,
   "metadata": {},
   "outputs": [
    {
     "data": {
      "image/png": "[encoded data removed]",
      "text/plain": [
       "<Figure size 432x288 with 1 Axes>"
      ]
     },
     "metadata": {},
     "output_type": "display_data"
    }
   ],
   "source": [
    "import matplotlib.pyplot as plt\n",
    "plt.bar([1,2,3], [whd,whw,wd])\n",
    "plt.xticks([1,2,3],[\"whale/dog\", \"whale/walrus\", \"walrus/dog\"])\n",
    "plt.yticks(range(0,100,10))\n",
    "plt.ylabel(\"% similarity\")\n",
    "plt.xlabel(\"Pair of Species\")\n",
    "plt.title(\"% similarity between each pair of species\")\n",
    "plt.show()"
   ]
  },
  {
   "cell_type": "code",
   "execution_count": 61,
   "metadata": {},
   "outputs": [
    {
     "data": {
      "image/png": "[encoded data removed]",
      "text/plain": [
       "<Figure size 432x288 with 1 Axes>"
      ]
     },
     "metadata": {},
     "output_type": "display_data"
    }
   ],
   "source": [
    "import matplotlib.pyplot as plt\n",
    "plt.bar([1,2,3], [100 - whd,100 - whw,100 - wd])\n",
    "plt.xticks([1,2,3],[\"whale/dog\", \"whale/walrus\", \"walrus/dog\"])\n",
    "plt.ylabel(\"% difference\")\n",
    "plt.xlabel(\"Pair of Species\")\n",
    "plt.title(\"% difference between each pair of species\")\n",
    "plt.show()"
   ]
  },
  {
   "cell_type": "markdown",
   "metadata": {},
   "source": [
    "## Bonus Challenge 2\n",
    "If you finish your project and want to try a challenge, come up with a hypothesis about which of the following species are most closely related to humans (carp, chicken, chimp, dog, eel, elephant, frog, gorilla, macaque monkey, mouse, orangutan, pig). Write out a ranked list with the species you think is most related to humans at the top.\n",
    "\n",
    "Then calculate the percent difference between the hemoglobin amino acid sequences of humans and each species to find out how close you came to the right ranking!"
   ]
  },
  {
   "cell_type": "code",
   "execution_count": null,
   "metadata": {},
   "outputs": [],
   "source": []
  }
 ],
 "metadata": {
  "kernelspec": {
   "display_name": "Python 3",
   "language": "python",
   "name": "python3"
  },
  "language_info": {
   "codemirror_mode": {
    "name": "ipython",
    "version": 3
   },
   "file_extension": ".py",
   "mimetype": "text/x-python",
   "name": "python",
   "nbconvert_exporter": "python",
   "pygments_lexer": "ipython3",
   "version": "3.6.5"
  }
 },
 "nbformat": 4,
 "nbformat_minor": 2
}
